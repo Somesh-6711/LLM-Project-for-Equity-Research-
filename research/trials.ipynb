{
 "cells": [
  {
   "cell_type": "code",
   "execution_count": null,
   "metadata": {},
   "outputs": [],
   "source": [
    "%pip install requests\n",
    "%pip install scikit-learn\n",
    "%pip install python-dotenv"
   ]
  },
  {
   "cell_type": "code",
   "execution_count": null,
   "metadata": {},
   "outputs": [],
   "source": [
    "# Trials Notebook: Experiment with fetching news and personalization\n",
    "\n",
    "import requests\n",
    "from sklearn.feature_extraction.text import TfidfVectorizer\n",
    "from sklearn.metrics.pairwise import cosine_similarity\n",
    "import os\n",
    "from dotenv import load_dotenv"
   ]
  },
  {
   "cell_type": "code",
   "execution_count": null,
   "metadata": {},
   "outputs": [],
   "source": [
    "load_dotenv()"
   ]
  },
  {
   "cell_type": "code",
   "execution_count": null,
   "metadata": {},
   "outputs": [],
   "source": [
    "# Set up News API key\n",
    "NEWS_API_KEY = os.getenv('NEWS_API_KEY')\n",
    "\n",
    "# Fetch news articles based on a keyword\n",
    "def fetch_articles_by_keyword(keyword, page_size=5):\n",
    "    url = f\"https://newsapi.org/v2/everything?q={keyword}&pageSize={page_size}&apiKey={NEWS_API_KEY}\"\n",
    "    response = requests.get(url)\n",
    "    if response.status_code == 200:\n",
    "        return response.json().get('articles', [])\n",
    "    else:\n",
    "        print(\"Error fetching articles:\", response.status_code)\n",
    "        return []"
   ]
  },
  {
   "cell_type": "code",
   "execution_count": null,
   "metadata": {},
   "outputs": [],
   "source": [
    "# Experiment with recommendations\n",
    "def recommend_articles(user_keywords, articles):\n",
    "    article_texts = [article['title'] + \" \" + article['description'] for article in articles]\n",
    "    vectorizer = TfidfVectorizer()\n",
    "    tfidf_matrix = vectorizer.fit_transform(user_keywords + article_texts)\n",
    "    similarities = cosine_similarity(tfidf_matrix[0:len(user_keywords)], tfidf_matrix[len(user_keywords):])\n",
    "    recommendations = sorted(list(enumerate(similarities.sum(axis=0))), key=lambda x: x[1], reverse=True)\n",
    "    return [articles[i[0]] for i in recommendations[:5]]"
   ]
  },
  {
   "cell_type": "code",
   "execution_count": null,
   "metadata": {},
   "outputs": [],
   "source": [
    "# Example trial\n",
    "if __name__ == \"__main__\":\n",
    "    keyword = \"AI\"\n",
    "    user_keywords = [\"Artificial Intelligence\", \"Machine Learning\"]\n",
    "    articles = fetch_articles_by_keyword(keyword)\n",
    "    recommended_articles = recommend_articles(user_keywords, articles)\n",
    "\n",
    "    for idx, article in enumerate(recommended_articles, start=1):\n",
    "        print(f\"{idx}. {article['title']}\")\n",
    "        print(article['description'])\n",
    "        print(article['url'])\n",
    "        print(\"-\" * 80)"
   ]
  },
  {
   "cell_type": "code",
   "execution_count": null,
   "metadata": {},
   "outputs": [],
   "source": []
  }
 ],
 "metadata": {
  "kernelspec": {
   "display_name": "inewS",
   "language": "python",
   "name": "python3"
  },
  "language_info": {
   "codemirror_mode": {
    "name": "ipython",
    "version": 3
   },
   "file_extension": ".py",
   "mimetype": "text/x-python",
   "name": "python",
   "nbconvert_exporter": "python",
   "pygments_lexer": "ipython3",
   "version": "3.11.11"
  }
 },
 "nbformat": 4,
 "nbformat_minor": 2
}
